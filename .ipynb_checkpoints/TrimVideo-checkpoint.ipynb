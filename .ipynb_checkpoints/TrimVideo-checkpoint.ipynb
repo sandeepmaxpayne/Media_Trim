{
 "cells": [
  {
   "cell_type": "code",
   "execution_count": 1,
   "metadata": {},
   "outputs": [],
   "source": [
    "from moviepy.video.io.ffmpeg_tools import ffmpeg_extract_subclip"
   ]
  },
  {
   "cell_type": "code",
   "execution_count": 2,
   "metadata": {},
   "outputs": [
    {
     "name": "stdout",
     "output_type": "stream",
     "text": [
      "Moviepy - Running:\n",
      ">>> \"+ \" \".join(cmd)\n",
      "Moviepy - Command successful\n"
     ]
    }
   ],
   "source": [
    "start_time = 16\n",
    "end_time = 1414\n",
    "ffmpeg_extract_subclip(\"E:/Download/Sharing.My.Asian.Hotwife.2.DiSC2.XXX.DVDRiP.x264-DivXfacTory/df-shmyasho2d2.mp4\", start_time, end_time, targetname=\"E:/Download/Sharing.My.Asian.Hotwife.2.DiSC2.XXX.DVDRiP.x264-DivXfacTory/hotB.mp4\")"
   ]
  },
  {
   "cell_type": "code",
   "execution_count": null,
   "metadata": {},
   "outputs": [],
   "source": []
  }
 ],
 "metadata": {
  "kernelspec": {
   "display_name": "Python 3",
   "language": "python",
   "name": "python3"
  },
  "language_info": {
   "codemirror_mode": {
    "name": "ipython",
    "version": 3
   },
   "file_extension": ".py",
   "mimetype": "text/x-python",
   "name": "python",
   "nbconvert_exporter": "python",
   "pygments_lexer": "ipython3",
   "version": "3.7.3"
  }
 },
 "nbformat": 4,
 "nbformat_minor": 2
}
