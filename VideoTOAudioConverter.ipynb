{
 "cells": [
  {
   "cell_type": "code",
   "execution_count": 1,
   "metadata": {},
   "outputs": [],
   "source": [
    "import moviepy.editor as mp\n",
    "from glob import glob\n",
    "import re\n",
    "import os"
   ]
  },
  {
   "cell_type": "code",
   "execution_count": 2,
   "metadata": {},
   "outputs": [],
   "source": [
    "# Enter Directory Name\n",
    "dir_name = \"C:/Users/Sandeep/Desktop/LastSurvivor\""
   ]
  },
  {
   "cell_type": "code",
   "execution_count": 3,
   "metadata": {},
   "outputs": [],
   "source": [
    "# To convert only one file\n",
    "# clip = mp.VideoFileClip(dir_name)\n",
    "# clip.audio.write_audiofile(\"C:/Users/Sandeep/Desktop/LastSurvivor/lastSurvivor1.mp3\")    \n",
    "# clip.reader.close()\n",
    "# clip.audio.reader.close_proc()"
   ]
  },
  {
   "cell_type": "code",
   "execution_count": 4,
   "metadata": {
    "scrolled": true
   },
   "outputs": [],
   "source": [
    "# To covert multiple MP4 files to MP3\n",
    "list_files = glob(f\"{dir_name}/*.MP4\")"
   ]
  },
  {
   "cell_type": "code",
   "execution_count": 5,
   "metadata": {},
   "outputs": [
    {
     "data": {
      "text/plain": [
       "['lastSurvivor1.mp4', 'lastSurvivor2.mp4', 'lastSurvivor3.mp4']"
      ]
     },
     "execution_count": 5,
     "metadata": {},
     "output_type": "execute_result"
    }
   ],
   "source": [
    "# List of MP4 files\n",
    "song_name = []\n",
    "for j in list_files:\n",
    "    x = re.split(r'(\\\\|-)', j)[2].rstrip(\" \")\n",
    "    song_name.append(f'{x}')\n",
    "song_name"
   ]
  },
  {
   "cell_type": "code",
   "execution_count": 6,
   "metadata": {},
   "outputs": [
    {
     "name": "stdout",
     "output_type": "stream",
     "text": [
      "<class 'str'>\n"
     ]
    }
   ],
   "source": [
    "len(list_files)\n",
    "print(type(list_files[0]))"
   ]
  },
  {
   "cell_type": "code",
   "execution_count": 7,
   "metadata": {},
   "outputs": [
    {
     "name": "stdout",
     "output_type": "stream",
     "text": [
      "C:/Users/Sandeep/Desktop/LastSurvivor\\lastSurvivor1.mp4\n",
      "C:/Users/Sandeep/Desktop/LastSurvivor\\lastSurvivor2.mp4\n",
      "C:/Users/Sandeep/Desktop/LastSurvivor\\lastSurvivor3.mp4\n"
     ]
    }
   ],
   "source": [
    "for i in range(len(list_files)):\n",
    "    os.rename(os.path.join(dir_name, list_files[i]), os.path.join(dir_name, song_name[i])) \n",
    "    # rename(list_files[i], song_name[i])\n",
    "    print(os.path.join(dir_name, song_name[i]))\n",
    "  "
   ]
  },
  {
   "cell_type": "code",
   "execution_count": 8,
   "metadata": {},
   "outputs": [],
   "source": [
    "write_path = dir_name"
   ]
  },
  {
   "cell_type": "code",
   "execution_count": 10,
   "metadata": {},
   "outputs": [
    {
     "name": "stdout",
     "output_type": "stream",
     "text": [
      "lastSurvivor1.mp4 --> lastSurvivor1.mp3\n"
     ]
    },
    {
     "name": "stderr",
     "output_type": "stream",
     "text": [
      "chunk:   0%|                                                                | 3/3983 [00:00<02:13, 29.73it/s, now=None]"
     ]
    },
    {
     "name": "stdout",
     "output_type": "stream",
     "text": [
      "MoviePy - Writing audio in C:/Users/Sandeep/Desktop/LastSurvivor/lastSurvivor1.mp3\n"
     ]
    },
    {
     "name": "stderr",
     "output_type": "stream",
     "text": [
      "                                                                                                                       \r"
     ]
    },
    {
     "name": "stdout",
     "output_type": "stream",
     "text": [
      "MoviePy - Done.\n",
      "lastSurvivor2.mp4 --> lastSurvivor2.mp3\n"
     ]
    },
    {
     "name": "stderr",
     "output_type": "stream",
     "text": [
      "chunk:   0%|                                                                | 3/4647 [00:00<03:48, 20.30it/s, now=None]"
     ]
    },
    {
     "name": "stdout",
     "output_type": "stream",
     "text": [
      "MoviePy - Writing audio in C:/Users/Sandeep/Desktop/LastSurvivor/lastSurvivor2.mp3\n"
     ]
    },
    {
     "name": "stderr",
     "output_type": "stream",
     "text": [
      "                                                                                                                       \r"
     ]
    },
    {
     "name": "stdout",
     "output_type": "stream",
     "text": [
      "MoviePy - Done.\n",
      "lastSurvivor3.mp4 --> lastSurvivor3.mp3\n"
     ]
    },
    {
     "name": "stderr",
     "output_type": "stream",
     "text": [
      "chunk:   0%|                                                                | 3/4790 [00:00<02:54, 27.38it/s, now=None]"
     ]
    },
    {
     "name": "stdout",
     "output_type": "stream",
     "text": [
      "MoviePy - Writing audio in C:/Users/Sandeep/Desktop/LastSurvivor/lastSurvivor3.mp3\n"
     ]
    },
    {
     "name": "stderr",
     "output_type": "stream",
     "text": [
      "                                                                                                                       "
     ]
    },
    {
     "name": "stdout",
     "output_type": "stream",
     "text": [
      "MoviePy - Done.\n"
     ]
    },
    {
     "name": "stderr",
     "output_type": "stream",
     "text": [
      "\r"
     ]
    }
   ],
   "source": [
    "for i in range(len(song_name)):\n",
    "    print(f\"{song_name[i]} --> {song_name[i].split('.')[0]}.mp3\")\n",
    "    clip = mp.VideoFileClip('{}/{}'.format(write_path, song_name[i]))\n",
    "    clip.audio.write_audiofile(\"{}/{}.mp3\".format(write_path, song_name[i].split('.')[0]))    \n",
    "    clip.reader.close()\n",
    "    clip.audio.reader.close_proc()\n",
    "  "
   ]
  },
  {
   "cell_type": "code",
   "execution_count": null,
   "metadata": {},
   "outputs": [],
   "source": []
  }
 ],
 "metadata": {
  "kernelspec": {
   "display_name": "Python 3",
   "language": "python",
   "name": "python3"
  },
  "language_info": {
   "codemirror_mode": {
    "name": "ipython",
    "version": 3
   },
   "file_extension": ".py",
   "mimetype": "text/x-python",
   "name": "python",
   "nbconvert_exporter": "python",
   "pygments_lexer": "ipython3",
   "version": "3.7.6"
  }
 },
 "nbformat": 4,
 "nbformat_minor": 2
}
