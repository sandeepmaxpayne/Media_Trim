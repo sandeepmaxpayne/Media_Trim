{
 "cells": [
  {
   "cell_type": "code",
   "execution_count": 1,
   "metadata": {},
   "outputs": [],
   "source": [
    "import moviepy.editor as mp\n",
    "from glob import glob\n",
    "import re\n",
    "import os"
   ]
  },
  {
   "cell_type": "code",
   "execution_count": 2,
   "metadata": {},
   "outputs": [],
   "source": [
    "dir_name = \"C:/Users/Sandeep/Desktop/tkinter\""
   ]
  },
  {
   "cell_type": "code",
   "execution_count": 3,
   "metadata": {
    "scrolled": true
   },
   "outputs": [
    {
     "data": {
      "text/plain": [
       "['C:/Users/Sandeep/Desktop/tkinter\\\\Accident - Tom Holkenborg _ White Lines (Music from the Netflix Original Series).mp4',\n",
       " 'C:/Users/Sandeep/Desktop/tkinter\\\\Boxer - Tom Holkenborg _ White Lines (Music from the Netflix Original Series).mp4',\n",
       " 'C:/Users/Sandeep/Desktop/tkinter\\\\Closure - Tom Holkenborg _ White Lines (Music from the Netflix Original Series).mp4',\n",
       " 'C:/Users/Sandeep/Desktop/tkinter\\\\Darker Night - Tom Holkenborg _ White Lines (Music from the Netflix Original Ser.mp4',\n",
       " 'C:/Users/Sandeep/Desktop/tkinter\\\\Discoveries - Tom Holkenborg _ White Lines (Music from the Netflix Original Seri.mp4',\n",
       " 'C:/Users/Sandeep/Desktop/tkinter\\\\Diving for Pizza - Tom Holkenborg _ White Lines (Music from the Netflix Original.mp4',\n",
       " 'C:/Users/Sandeep/Desktop/tkinter\\\\Family Troubles - Tom Holkenborg _ White Lines (Music from the Netflix Original .mp4',\n",
       " \"C:/Users/Sandeep/Desktop/tkinter\\\\I'm Happy For You - Tom Holkenborg _ White Lines (Music from the Netflix Origina.mp4\",\n",
       " 'C:/Users/Sandeep/Desktop/tkinter\\\\Ibiza Bar - Tom Holkenborg _ White Lines (Music from the Netflix Original Series.mp4',\n",
       " 'C:/Users/Sandeep/Desktop/tkinter\\\\In The Club - Tom Holkenborg _ White Lines (Music from the Netflix Original Seri.mp4',\n",
       " \"C:/Users/Sandeep/Desktop/tkinter\\\\Infinity Alex's Theme - Tom Holkenborg _ White Lines (Music from the Netflix Ori.mp4\",\n",
       " 'C:/Users/Sandeep/Desktop/tkinter\\\\Live Life - Tom Holkenborg _ White Lines (Music from the Netflix Original Series.mp4',\n",
       " 'C:/Users/Sandeep/Desktop/tkinter\\\\Memories - Tom Holkenborg _ White Lines (Music from the Netflix Original Series).mp4',\n",
       " 'C:/Users/Sandeep/Desktop/tkinter\\\\Missing You - Tom Holkenborg _ White Lines (Music from the Netflix Original Seri.mp4',\n",
       " 'C:/Users/Sandeep/Desktop/tkinter\\\\My Goddess - Tom Holkenborg _ White Lines (Music from the Netflix Original Serie.mp4',\n",
       " 'C:/Users/Sandeep/Desktop/tkinter\\\\New Day - Tom Holkenborg _ White Lines (Music from the Netflix Original Series).mp4',\n",
       " 'C:/Users/Sandeep/Desktop/tkinter\\\\On The Road - Tom Holkenborg _ White Lines (Music from the Netflix Original Seri.mp4',\n",
       " 'C:/Users/Sandeep/Desktop/tkinter\\\\Repercussions - Tom Holkenborg _ White Lines (Music from the Netflix Original Se.mp4',\n",
       " 'C:/Users/Sandeep/Desktop/tkinter\\\\Retrace The Path - Tom Holkenborg _ White Lines (Music from the Netflix Original.mp4',\n",
       " 'C:/Users/Sandeep/Desktop/tkinter\\\\Romance - Tom Holkenborg _ White Lines (Music from the Netflix Original Series).mp4',\n",
       " 'C:/Users/Sandeep/Desktop/tkinter\\\\The Past - Tom Holkenborg _ White Lines (Music from the Netflix Original Series).mp4',\n",
       " 'C:/Users/Sandeep/Desktop/tkinter\\\\Zoe - Tom Holkenborg _ White Lines (Music from the Netflix Original Series).mp4',\n",
       " \"C:/Users/Sandeep/Desktop/tkinter\\\\Zoe's Arrival - Tom Holkenborg _ White Lines (Music from the Netflix Original Se.mp4\"]"
      ]
     },
     "execution_count": 3,
     "metadata": {},
     "output_type": "execute_result"
    }
   ],
   "source": [
    "list_files = glob(f\"{dir_name}/*.mp4\")\n",
    "list_files"
   ]
  },
  {
   "cell_type": "code",
   "execution_count": 4,
   "metadata": {},
   "outputs": [
    {
     "data": {
      "text/plain": [
       "['Accident.mp4',\n",
       " 'Boxer.mp4',\n",
       " 'Closure.mp4',\n",
       " 'Darker Night.mp4',\n",
       " 'Discoveries.mp4',\n",
       " 'Diving for Pizza.mp4',\n",
       " 'Family Troubles.mp4',\n",
       " \"I'm Happy For You.mp4\",\n",
       " 'Ibiza Bar.mp4',\n",
       " 'In The Club.mp4',\n",
       " \"Infinity Alex's Theme.mp4\",\n",
       " 'Live Life.mp4',\n",
       " 'Memories.mp4',\n",
       " 'Missing You.mp4',\n",
       " 'My Goddess.mp4',\n",
       " 'New Day.mp4',\n",
       " 'On The Road.mp4',\n",
       " 'Repercussions.mp4',\n",
       " 'Retrace The Path.mp4',\n",
       " 'Romance.mp4',\n",
       " 'The Past.mp4',\n",
       " 'Zoe.mp4',\n",
       " \"Zoe's Arrival.mp4\"]"
      ]
     },
     "execution_count": 4,
     "metadata": {},
     "output_type": "execute_result"
    }
   ],
   "source": [
    "song_name = []\n",
    "for j in list_files:\n",
    "    x = re.split(r'(\\\\|-)', j)[2].rstrip(\" \")\n",
    "    song_name.append(f'{x}.mp4')\n",
    "song_name"
   ]
  },
  {
   "cell_type": "code",
   "execution_count": 5,
   "metadata": {},
   "outputs": [
    {
     "name": "stdout",
     "output_type": "stream",
     "text": [
      "<class 'str'>\n"
     ]
    }
   ],
   "source": [
    "len(list_files)\n",
    "print(type(list_files[0]))"
   ]
  },
  {
   "cell_type": "code",
   "execution_count": 6,
   "metadata": {},
   "outputs": [
    {
     "name": "stdout",
     "output_type": "stream",
     "text": [
      "C:/Users/Sandeep/Desktop/tkinter\\Accident - Tom Holkenborg _ White Lines (Music from the Netflix Original Series).mp4 changed to Accident.mp4\n",
      "C:/Users/Sandeep/Desktop/tkinter\\Boxer - Tom Holkenborg _ White Lines (Music from the Netflix Original Series).mp4 changed to Boxer.mp4\n",
      "C:/Users/Sandeep/Desktop/tkinter\\Closure - Tom Holkenborg _ White Lines (Music from the Netflix Original Series).mp4 changed to Closure.mp4\n",
      "C:/Users/Sandeep/Desktop/tkinter\\Darker Night - Tom Holkenborg _ White Lines (Music from the Netflix Original Ser.mp4 changed to Darker Night.mp4\n",
      "C:/Users/Sandeep/Desktop/tkinter\\Discoveries - Tom Holkenborg _ White Lines (Music from the Netflix Original Seri.mp4 changed to Discoveries.mp4\n",
      "C:/Users/Sandeep/Desktop/tkinter\\Diving for Pizza - Tom Holkenborg _ White Lines (Music from the Netflix Original.mp4 changed to Diving for Pizza.mp4\n",
      "C:/Users/Sandeep/Desktop/tkinter\\Family Troubles - Tom Holkenborg _ White Lines (Music from the Netflix Original .mp4 changed to Family Troubles.mp4\n",
      "C:/Users/Sandeep/Desktop/tkinter\\I'm Happy For You - Tom Holkenborg _ White Lines (Music from the Netflix Origina.mp4 changed to I'm Happy For You.mp4\n",
      "C:/Users/Sandeep/Desktop/tkinter\\Ibiza Bar - Tom Holkenborg _ White Lines (Music from the Netflix Original Series.mp4 changed to Ibiza Bar.mp4\n",
      "C:/Users/Sandeep/Desktop/tkinter\\In The Club - Tom Holkenborg _ White Lines (Music from the Netflix Original Seri.mp4 changed to In The Club.mp4\n",
      "C:/Users/Sandeep/Desktop/tkinter\\Infinity Alex's Theme - Tom Holkenborg _ White Lines (Music from the Netflix Ori.mp4 changed to Infinity Alex's Theme.mp4\n",
      "C:/Users/Sandeep/Desktop/tkinter\\Live Life - Tom Holkenborg _ White Lines (Music from the Netflix Original Series.mp4 changed to Live Life.mp4\n",
      "C:/Users/Sandeep/Desktop/tkinter\\Memories - Tom Holkenborg _ White Lines (Music from the Netflix Original Series).mp4 changed to Memories.mp4\n",
      "C:/Users/Sandeep/Desktop/tkinter\\Missing You - Tom Holkenborg _ White Lines (Music from the Netflix Original Seri.mp4 changed to Missing You.mp4\n",
      "C:/Users/Sandeep/Desktop/tkinter\\My Goddess - Tom Holkenborg _ White Lines (Music from the Netflix Original Serie.mp4 changed to My Goddess.mp4\n",
      "C:/Users/Sandeep/Desktop/tkinter\\New Day - Tom Holkenborg _ White Lines (Music from the Netflix Original Series).mp4 changed to New Day.mp4\n",
      "C:/Users/Sandeep/Desktop/tkinter\\On The Road - Tom Holkenborg _ White Lines (Music from the Netflix Original Seri.mp4 changed to On The Road.mp4\n",
      "C:/Users/Sandeep/Desktop/tkinter\\Repercussions - Tom Holkenborg _ White Lines (Music from the Netflix Original Se.mp4 changed to Repercussions.mp4\n",
      "C:/Users/Sandeep/Desktop/tkinter\\Retrace The Path - Tom Holkenborg _ White Lines (Music from the Netflix Original.mp4 changed to Retrace The Path.mp4\n",
      "C:/Users/Sandeep/Desktop/tkinter\\Romance - Tom Holkenborg _ White Lines (Music from the Netflix Original Series).mp4 changed to Romance.mp4\n",
      "C:/Users/Sandeep/Desktop/tkinter\\The Past - Tom Holkenborg _ White Lines (Music from the Netflix Original Series).mp4 changed to The Past.mp4\n",
      "C:/Users/Sandeep/Desktop/tkinter\\Zoe - Tom Holkenborg _ White Lines (Music from the Netflix Original Series).mp4 changed to Zoe.mp4\n",
      "C:/Users/Sandeep/Desktop/tkinter\\Zoe's Arrival - Tom Holkenborg _ White Lines (Music from the Netflix Original Se.mp4 changed to Zoe's Arrival.mp4\n"
     ]
    }
   ],
   "source": [
    "for i in range(len(list_files)):\n",
    "    os.rename(os.path.join(dir_name, list_files[i]), os.path.join(dir_name, song_name[i])) \n",
    "    # rename(list_files[i], song_name[i])\n",
    "    print(f'{list_files[i]} changed to {song_name[i]}')\n",
    "  "
   ]
  },
  {
   "cell_type": "code",
   "execution_count": 7,
   "metadata": {},
   "outputs": [],
   "source": [
    "write_path = dir_name"
   ]
  },
  {
   "cell_type": "code",
   "execution_count": 8,
   "metadata": {},
   "outputs": [
    {
     "name": "stdout",
     "output_type": "stream",
     "text": [
      "Accident.mp4\n",
      "MoviePy - Writing audio in %s\n"
     ]
    },
    {
     "name": "stderr",
     "output_type": "stream",
     "text": [
      "                                                                                                                       \r"
     ]
    },
    {
     "name": "stdout",
     "output_type": "stream",
     "text": [
      "MoviePy - Done.\n",
      "Boxer.mp4\n",
      "MoviePy - Writing audio in %s\n"
     ]
    },
    {
     "name": "stderr",
     "output_type": "stream",
     "text": [
      "                                                                                                                       \r"
     ]
    },
    {
     "name": "stdout",
     "output_type": "stream",
     "text": [
      "MoviePy - Done.\n",
      "Closure.mp4\n",
      "MoviePy - Writing audio in %s\n"
     ]
    },
    {
     "name": "stderr",
     "output_type": "stream",
     "text": [
      "                                                                                                                       \r"
     ]
    },
    {
     "name": "stdout",
     "output_type": "stream",
     "text": [
      "MoviePy - Done.\n",
      "Darker Night.mp4\n",
      "MoviePy - Writing audio in %s\n"
     ]
    },
    {
     "name": "stderr",
     "output_type": "stream",
     "text": [
      "                                                                                                                       \r"
     ]
    },
    {
     "name": "stdout",
     "output_type": "stream",
     "text": [
      "MoviePy - Done.\n",
      "Discoveries.mp4\n",
      "MoviePy - Writing audio in %s\n"
     ]
    },
    {
     "name": "stderr",
     "output_type": "stream",
     "text": [
      "                                                                                                                       \r"
     ]
    },
    {
     "name": "stdout",
     "output_type": "stream",
     "text": [
      "MoviePy - Done.\n",
      "Diving for Pizza.mp4\n",
      "MoviePy - Writing audio in %s\n"
     ]
    },
    {
     "name": "stderr",
     "output_type": "stream",
     "text": [
      "                                                                                                                       \r"
     ]
    },
    {
     "name": "stdout",
     "output_type": "stream",
     "text": [
      "MoviePy - Done.\n",
      "Family Troubles.mp4\n",
      "MoviePy - Writing audio in %s\n"
     ]
    },
    {
     "name": "stderr",
     "output_type": "stream",
     "text": [
      "                                                                                                                       \r"
     ]
    },
    {
     "name": "stdout",
     "output_type": "stream",
     "text": [
      "MoviePy - Done.\n",
      "I'm Happy For You.mp4\n",
      "MoviePy - Writing audio in %s\n"
     ]
    },
    {
     "name": "stderr",
     "output_type": "stream",
     "text": [
      "                                                                                                                       \r"
     ]
    },
    {
     "name": "stdout",
     "output_type": "stream",
     "text": [
      "MoviePy - Done.\n",
      "Ibiza Bar.mp4\n",
      "MoviePy - Writing audio in %s\n"
     ]
    },
    {
     "name": "stderr",
     "output_type": "stream",
     "text": [
      "                                                                                                                       \r"
     ]
    },
    {
     "name": "stdout",
     "output_type": "stream",
     "text": [
      "MoviePy - Done.\n",
      "In The Club.mp4\n",
      "MoviePy - Writing audio in %s\n"
     ]
    },
    {
     "name": "stderr",
     "output_type": "stream",
     "text": [
      "                                                                                                                       \r"
     ]
    },
    {
     "name": "stdout",
     "output_type": "stream",
     "text": [
      "MoviePy - Done.\n",
      "Infinity Alex's Theme.mp4\n",
      "MoviePy - Writing audio in %s\n"
     ]
    },
    {
     "name": "stderr",
     "output_type": "stream",
     "text": [
      "                                                                                                                       \r"
     ]
    },
    {
     "name": "stdout",
     "output_type": "stream",
     "text": [
      "MoviePy - Done.\n",
      "Live Life.mp4\n",
      "MoviePy - Writing audio in %s\n"
     ]
    },
    {
     "name": "stderr",
     "output_type": "stream",
     "text": [
      "                                                                                                                       \r"
     ]
    },
    {
     "name": "stdout",
     "output_type": "stream",
     "text": [
      "MoviePy - Done.\n",
      "Memories.mp4\n",
      "MoviePy - Writing audio in %s\n"
     ]
    },
    {
     "name": "stderr",
     "output_type": "stream",
     "text": [
      "                                                                                                                       \r"
     ]
    },
    {
     "name": "stdout",
     "output_type": "stream",
     "text": [
      "MoviePy - Done.\n",
      "Missing You.mp4\n",
      "MoviePy - Writing audio in %s\n"
     ]
    },
    {
     "name": "stderr",
     "output_type": "stream",
     "text": [
      "                                                                                                                       \r"
     ]
    },
    {
     "name": "stdout",
     "output_type": "stream",
     "text": [
      "MoviePy - Done.\n",
      "My Goddess.mp4\n",
      "MoviePy - Writing audio in %s\n"
     ]
    },
    {
     "name": "stderr",
     "output_type": "stream",
     "text": [
      "                                                                                                                       \r"
     ]
    },
    {
     "name": "stdout",
     "output_type": "stream",
     "text": [
      "MoviePy - Done.\n",
      "New Day.mp4\n",
      "MoviePy - Writing audio in %s\n"
     ]
    },
    {
     "name": "stderr",
     "output_type": "stream",
     "text": [
      "                                                                                                                       \r"
     ]
    },
    {
     "name": "stdout",
     "output_type": "stream",
     "text": [
      "MoviePy - Done.\n",
      "On The Road.mp4\n",
      "MoviePy - Writing audio in %s\n"
     ]
    },
    {
     "name": "stderr",
     "output_type": "stream",
     "text": [
      "                                                                                                                       \r"
     ]
    },
    {
     "name": "stdout",
     "output_type": "stream",
     "text": [
      "MoviePy - Done.\n",
      "Repercussions.mp4\n",
      "MoviePy - Writing audio in %s\n"
     ]
    },
    {
     "name": "stderr",
     "output_type": "stream",
     "text": [
      "                                                                                                                       \r"
     ]
    },
    {
     "name": "stdout",
     "output_type": "stream",
     "text": [
      "MoviePy - Done.\n",
      "Retrace The Path.mp4\n",
      "MoviePy - Writing audio in %s\n"
     ]
    },
    {
     "name": "stderr",
     "output_type": "stream",
     "text": [
      "                                                                                                                       \r"
     ]
    },
    {
     "name": "stdout",
     "output_type": "stream",
     "text": [
      "MoviePy - Done.\n",
      "Romance.mp4\n",
      "MoviePy - Writing audio in %s\n"
     ]
    },
    {
     "name": "stderr",
     "output_type": "stream",
     "text": [
      "                                                                                                                       \r"
     ]
    },
    {
     "name": "stdout",
     "output_type": "stream",
     "text": [
      "MoviePy - Done.\n",
      "The Past.mp4\n",
      "MoviePy - Writing audio in %s\n"
     ]
    },
    {
     "name": "stderr",
     "output_type": "stream",
     "text": [
      "                                                                                                                       \r"
     ]
    },
    {
     "name": "stdout",
     "output_type": "stream",
     "text": [
      "MoviePy - Done.\n",
      "Zoe.mp4\n",
      "MoviePy - Writing audio in %s\n"
     ]
    },
    {
     "name": "stderr",
     "output_type": "stream",
     "text": [
      "                                                                                                                       \r"
     ]
    },
    {
     "name": "stdout",
     "output_type": "stream",
     "text": [
      "MoviePy - Done.\n",
      "Zoe's Arrival.mp4\n",
      "MoviePy - Writing audio in %s\n"
     ]
    },
    {
     "name": "stderr",
     "output_type": "stream",
     "text": [
      "                                                                                                                       \r"
     ]
    },
    {
     "name": "stdout",
     "output_type": "stream",
     "text": [
      "MoviePy - Done.\n"
     ]
    }
   ],
   "source": [
    "for i in range(len(song_name)):\n",
    "    print(song_name[i])\n",
    "    clip = mp.VideoFileClip('{}/{}'.format(write_path, song_name[i]))\n",
    "    clip.audio.write_audiofile(\"{}/{}.mp3\".format(write_path, song_name[i].split('.')[0]))    \n",
    "    clip.reader.close()\n",
    "    clip.audio.reader.close_proc()\n",
    "  "
   ]
  },
  {
   "cell_type": "code",
   "execution_count": null,
   "metadata": {},
   "outputs": [],
   "source": [
    "# clip.audio.write_audiofile(\"C:/Users/Sandeep/desktop/trump_visit_india.mp3\")"
   ]
  },
  {
   "cell_type": "code",
   "execution_count": null,
   "metadata": {},
   "outputs": [],
   "source": [
    "\n"
   ]
  },
  {
   "cell_type": "code",
   "execution_count": null,
   "metadata": {},
   "outputs": [],
   "source": []
  }
 ],
 "metadata": {
  "kernelspec": {
   "display_name": "Python 3",
   "language": "python",
   "name": "python3"
  },
  "language_info": {
   "codemirror_mode": {
    "name": "ipython",
    "version": 3
   },
   "file_extension": ".py",
   "mimetype": "text/x-python",
   "name": "python",
   "nbconvert_exporter": "python",
   "pygments_lexer": "ipython3",
   "version": "3.7.3"
  }
 },
 "nbformat": 4,
 "nbformat_minor": 2
}
